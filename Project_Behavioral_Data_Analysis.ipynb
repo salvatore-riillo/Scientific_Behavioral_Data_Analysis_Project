{
 "cells": [
  {
   "cell_type": "markdown",
   "metadata": {
    "id": "vx6hEy_FhkiY"
   },
   "source": [
    "# BEHAVIORAL DATA ANALYSIS PROJECT PRESENTATION - Salvatore Riillo"
   ]
  },
  {
   "cell_type": "markdown",
   "metadata": {
    "id": "9cGh5o_QiVqo"
   },
   "source": [
    "## **Assessing Apathy-like Behavior in the Animal Model**"
   ]
  },
  {
   "cell_type": "markdown",
   "metadata": {
    "id": "FZVXYF_BmIJn"
   },
   "source": [
    "<p align=\"justify\">In this presentation, I will outline the last and most challenging data analysis project I conducted during my internship in the neuroscience lab at the Life Science Center of Vilnius University.</p>\n",
    "\n",
    "<p align=\"justify\">I will present the various steps I undertook in the creation of a pilot scientific study.</p>"
   ]
  },
  {
   "cell_type": "markdown",
   "metadata": {
    "id": "ppywM1sfnUPU"
   },
   "source": [
    "---\n",
    "\n",
    "<p align=\"justify\"><font color=\"red\">⚠ <b>WARNING:</b></font> Please note that due to non-disclosure obligations, I am unable to share sensitive data and details in this presentation. These restrictions are in place because the results of this project will be used in future scientific studies.</p>\n",
    "\n",
    "---"
   ]
  },
  {
   "cell_type": "markdown",
   "metadata": {
    "id": "rjLXKKZJp7D-"
   },
   "source": [
    "## **Index**\n",
    "\n",
    "0. [Background](#background)\n",
    "1. [Observation](#observation)\n",
    "2. [Pilot Study](#pilot-study)\n",
    "3. [Preliminary Design](#preliminary-design)\n",
    "4. [Data Collection](#data-collection)\n",
    "5. [Data Cleaning](#data-cleaning)\n",
    "6. [Data Analysis](#data-analysis)\n",
    "7. [Data Visualization](#data-visualization)\n",
    "8. [Communication of Results](#communication-of-results)\n",
    "9. [Colleague Reception and Reference Letter](#colleague-reception-and-reference-letter)\n",
    "\n",
    "<br>\n",
    "<br>"
   ]
  },
  {
   "cell_type": "markdown",
   "metadata": {
    "id": "IKhkrD8IWNaj"
   },
   "source": [
    "## **0. Background** <a name=\"background\"></a>\n"
   ]
  },
  {
   "cell_type": "markdown",
   "metadata": {
    "id": "9pggWj4RY2Zu"
   },
   "source": [
    "<p align=\"justify\">I have conducted my work in the research lab as\n",
    "part of a multidisciplinary team.</p>\n",
    "\n",
    "<p align=\"justify\">Our research focused on using mice as proxies to study the progression of neurodegenerative diseases during ageing. We monitored these mice throughout their lifespan at quarterly intervals to assess their psychophysical abilities.</p>\n",
    "\n",
    "<p align=\"justify\">Using a battery of commonly used research tests, we evaluated various aspects of their behavior. This included assessing their socialization skills with other specimens, their effectiveness in navigating to find food, their ability to perform a variety of tasks, and similar measures.</p>\n",
    "\n",
    "<p align=\"justify\"><u>My primary role was that of a Behavioral Data Analyst</u>. This entailed analyzing the videos captured during experimental sessions using specialized software and extracting data to derive meaningful insights.</p>\n",
    "<br>"
   ]
  },
  {
   "cell_type": "markdown",
   "metadata": {
    "id": "_UCfrkRfgDUv"
   },
   "source": [
    "## **1. Observation** <a name=\"observation\"></a>"
   ]
  },
  {
   "cell_type": "markdown",
   "metadata": {
    "id": "lrQNV4etgcgM"
   },
   "source": [
    "<p align=\"justify\">My colleague and mentor, whose background was in veterinary medicine and thus had expertise in animal behavior, had observed an intriguing phenomenon among some elderly specimens. He suspected that certain individuals appeared to be less inclined to engage in specific actions. His concern was that this behavior might be misinterpreted as a symptom of degenerative disease, when in fact, some of the mice might simply be experiencing a lack of motivation rather than actual inability.</p>\n",
    "<br>"
   ]
  },
  {
   "cell_type": "markdown",
   "metadata": {
    "id": "GsZ125Vzm9N0"
   },
   "source": [
    "## **2. Pilot Study** <a name=\"pilot-study\"></a>"
   ]
  },
  {
   "cell_type": "markdown",
   "metadata": {
    "id": "vSNl5bF8orh9"
   },
   "source": [
    "<p align=\"justify\">Given that I was the sole team member with a strong psychological background, my collegue entrusted me with the task of operationalizing apathy in mice. In other words, devising a methodology to measure apathy levels in mice using the available video footage, and using it to identify significant variations among different cohorts and genders.</p>\n",
    "<br>"
   ]
  },
  {
   "cell_type": "markdown",
   "metadata": {},
   "source": [
    "<center><img src=\"img/me.jpeg\" width=\"300px\" height=\"200px\" alt=\"image\">\n",
    "<figcaption>A picture of me before starting this challenge.</figcaption></center>"
   ]
  },
  {
   "cell_type": "markdown",
   "metadata": {},
   "source": [
    "<br>"
   ]
  },
  {
   "cell_type": "markdown",
   "metadata": {
    "id": "oTVw3DuQq06z"
   },
   "source": [
    "## **3. Preliminary Design** <a name=\"preliminary-design\"></a>"
   ]
  },
  {
   "cell_type": "markdown",
   "metadata": {},
   "source": [
    "<p align=\"justify\">The design of the study posed particular challenges, with the most significant being the operationalization of apathy. Apathy is a relatively understudied phenomenon in humans, and it's challenging to assess individually and distinguish from related phenomena like depression.</p>\n",
    "\n",
    "<p align=\"justify\">The differential diagnosis between these two phenomena is inherently complex, and even more so is finding an equivalent in mice and selecting tests capable of detecting apathetic behavior while differentiating it from depressive behavior.</p>\n",
    "\n",
    "<br>\n",
    "<p align=\"justify\"><b>Step 1:</b> First and foremost, as a non-clinician, I had to study apathy in humans by delving into academic literature and conducting research on the scientific database PubMed to gain a comprehensive understanding of the characteristics of human apathy.</p>\n",
    "<br>"
   ]
  },
  {
   "cell_type": "markdown",
   "metadata": {},
   "source": [
    "<center><img src=\"img/pubmed.png\" width=\"900px\" height=\"800px\" alt=\"image\">\n",
    "<figcaption>Pubmed database.</figcaption></center>"
   ]
  },
  {
   "cell_type": "markdown",
   "metadata": {},
   "source": [
    "<br>\n",
    "<p align=\"justify\"><b>Step 2:</b> After identifying the distinctive characteristics of human apathy, I conducted a PubMed search to determine if corresponding tests existed for mice to monitor equivalent behaviors. There are various tests available for assessing depressive behavior, but there are relatively few examples of tests specifically designed for apathy. An important consideration is that apathy, as a syndrome, implies a state of non-depression. Therefore, tests for depression remain relevant, as distinguishing apathy from depressive behavior is a critical aspect of the study.</p>\n",
    "\n",
    "<br>\n",
    "<p align=\"justify\"><b>Step 3:</b> The most challenging part of the process. The mouse specimens to be analyzed had all passed away due to illness or old age, making it impossible to design a test optimized for this purpose. Therefore, I had to select some of the characteristics of a hypothetical apathy test and attempt to implement them in the analysis of various types of videos already present in the database.\n",
    "I then selected specific subsets of videos on which to conduct the analyses.</p>\n",
    "<br>"
   ]
  },
  {
   "cell_type": "markdown",
   "metadata": {},
   "source": [
    "## **4. Data Collection** <a name=\"data-collection\"></a>"
   ]
  },
  {
   "cell_type": "markdown",
   "metadata": {},
   "source": [
    "<p align=\"justify\">Videotracking software is commonly used in mouse studies. However, certain experimental situations pose challenges in terms of the quality, position, and context of the video. This, combined with the potential small size of the videoset, makes it necessary for researchers to perform measurements manually using stopwatches or other tools.</p> \n",
    "<br>"
   ]
  },
  {
   "cell_type": "markdown",
   "metadata": {},
   "source": [
    "<center><img src=\"img/stw.jpg\" width=\"300px\" height=\"200px\" alt=\"image\">\n",
    "<figcaption>The stopwatch I used for the manual readings.</figcaption></center>"
   ]
  },
  {
   "cell_type": "markdown",
   "metadata": {},
   "source": [
    "<br>\n",
    "<br>\n",
    "<p align=\"justify\">It's important to note that researchers may introduce individual biases, so efforts are made to have the same individual conduct measurements consistently across all assessments. Additionally, a crucial consideration is that measurements should be taken from randomized videos, with the assessors unaware of the group to which each sample belongs. This helps ensure that measurements are not unconsciously influenced by group membership.</p>\n",
    "\n",
    "<p align=\"justify\">After collecting some manual measurements, I proceeded with the automatic motion analysis using software, specifically utilizing a widely used tool in research called Biobserve Viewer 3.</p>\n",
    "<br>"
   ]
  },
  {
   "cell_type": "markdown",
   "metadata": {},
   "source": [
    "<center><img src=\"img/software.png\" width=\"500px\" height=\"400px\" alt=\"image\">\n",
    "<figcaption>The software I used for the automatic readings.</figcaption></center>"
   ]
  },
  {
   "cell_type": "markdown",
   "metadata": {},
   "source": [
    "<br>\n",
    "<br>\n",
    "<p align=\"justify\">I tweaked the software by inserting a line of code to unlock a hidden function capable of measuring a specific feature I needed. However, this led to an output in CSV format with several internal issues.</p>\n",
    "\n",
    "<p align=\"justify\">The necessary intermediate step for both manual and automatic data was MS Excel. In reality, this would have been a superfluous step both in terms of analysis and data visualization. Nevertheless, for internal laboratory consistency reasons, it was necessary for the data to be reformatted into different specific Excel formats, and summarize them into a pivot table.</p>\n",
    "\n",
    "<p align=\"justify\">Therefore, I entered the data from manual measurements directly into an Excel sheet with proper formatting, while for the CSV data file from automatic measurements, I had to perform several cleaning and formatting operations.</p>\n",
    "<br>"
   ]
  },
  {
   "cell_type": "markdown",
   "metadata": {},
   "source": [
    "## **5. Data Cleaning** <a name=\"data-cleaning\"></a>"
   ]
  },
  {
   "cell_type": "markdown",
   "metadata": {},
   "source": [
    "<p align=\"justify\">The CSV file generated by the software contained some of the messiest data I've ever encountered in software outputs, so much that it could be barely considered a CSV file. For each subject, the measurements were fragmented into tens of thousands of temporal snippets in an unusual base 10 format in some parts and base 12 in others. Moreover, it included various extraneous characters that hindered the correct interpretation of the string as a temporal format, and the correct separation between columns.</p>\n",
    "<br>"
   ]
  },
  {
   "cell_type": "markdown",
   "metadata": {},
   "source": [
    "<b>Phase 1: &nbsp; &nbsp; &nbsp; &nbsp; &nbsp; <font color=\"red\">\\#!/bin/bash</font></b>\n",
    "\n",
    "<p align=\"justify\">After inspecting the contents of the CSV files, I created a Bash script to be executed in the Linux terminal of my system. This script was designed to replace various characters and strings within each of the dozens of files, thereby transforming them into CSV files ready for import.</p>\n",
    "<br>"
   ]
  },
  {
   "cell_type": "markdown",
   "metadata": {},
   "source": [
    "<center><img src=\"img/clean_csv.png\" width=\"500px\" height=\"400px\" alt=\"image\">\n",
    "<figcaption>The CSV file after the cleaning was properly importable.</figcaption></center>"
   ]
  },
  {
   "cell_type": "markdown",
   "metadata": {},
   "source": [
    "<br>\n",
    "<br>"
   ]
  },
  {
   "cell_type": "markdown",
   "metadata": {},
   "source": [
    "\n",
    "<b>Phase 2: &nbsp; &nbsp; &nbsp; &nbsp; &nbsp;  <font color=\"red\">import pandas as pd</font></b>\n",
    "<br>\n",
    "<p align=\"justify\">The cleaned CSV file contained a list of timestamp data with tens of thousands of entries. I used Python and the Pandas library to perform addition and subtraction operations between columns, reducing the data to three values for each file.</p>\n",
    "<br>\n",
    "<br>"
   ]
  },
  {
   "cell_type": "markdown",
   "metadata": {},
   "source": [
    "<b>Phase 3: &nbsp; &nbsp; &nbsp; &nbsp; &nbsp;  <font color=\"red\">\"The good ol'excel\"</font></b>\n",
    "\n",
    "<p align=\"justify\">I imported the values into MS Excel, creating separate worksheets for each cohort and a final summary worksheet. I followed the table structure requested by the laboratory for the sake of consistency with their other experiments.</p>\n",
    "<br>"
   ]
  },
  {
   "cell_type": "markdown",
   "metadata": {},
   "source": [
    "<center><img src=\"img/spreadsheet.jpg\" width=\"500px\" height=\"400px\" alt=\"image\">\n",
    "<figcaption>One of the excel spreadsheets.</figcaption></center>"
   ]
  },
  {
   "cell_type": "markdown",
   "metadata": {},
   "source": [
    "## **6. Data Analysis** <a name=\"data-analysis\"></a>"
   ]
  },
  {
   "cell_type": "markdown",
   "metadata": {},
   "source": [
    "<p align=\"justify\">At this point, after having entered both the manually collected and the automatic collected values into the Excel tables, I performed basic operations (conversion, sum, average, etc.) and handled missing values. Since the various cohort data were repeated over time during intervals, it was common for some specimens to have died due to illness, resulting in missing data in subsequent measurements. In some cases, I removed the entire data point, while in others, I replaced the missing value with the mean.</p>\n",
    "<br>"
   ]
  },
  {
   "cell_type": "markdown",
   "metadata": {},
   "source": [
    "<center><img src=\"img/excel_o.jpg\" width=\"500px\" height=\"400px\" alt=\"image\">\n",
    "<figcaption>One of the many tables.</figcaption></center>"
   ]
  },
  {
   "cell_type": "markdown",
   "metadata": {},
   "source": [
    "<br>\n",
    "<br>\n",
    "<p align=\"justify\">I imported the Excel tables into GraphPad Prism, a widely used statistical analysis software in biomedical research. Subsequently, I conducted various analyses to identify correlations between the different parameters used as proxies for apathy and to detect significant differences in these parameters among the various groups of specimens.</p>\n",
    "<br>\n",
    "<br>"
   ]
  },
  {
   "cell_type": "markdown",
   "metadata": {},
   "source": [
    "<center><img src=\"img/prism.png\" width=\"500px\" height=\"400px\" alt=\"image\">\n",
    "<figcaption>GraphPad Prism.</figcaption></center>"
   ]
  },
  {
   "cell_type": "markdown",
   "metadata": {},
   "source": [
    "<br>\n",
    "<br>\n",
    "<p align=\"justify\">At this point, the groups were still named with aliases to ensure the experiment remained 'blinded.' I proceeded to remove the aliases and assign the actual group names, thus revealing the nature of each group.</p>\n",
    "<br>"
   ]
  },
  {
   "cell_type": "markdown",
   "metadata": {},
   "source": [
    "## **7. Data Visualization** <a name=\"data-visualization\"></a>"
   ]
  },
  {
   "cell_type": "markdown",
   "metadata": {},
   "source": [
    "<p align=\"justify\">Using GraphPad Prism, I generated graphs and correlation matrices to visualize the results. The choice of graph type and its specific features were not determined by me; rather, I was instructed to adhere to a particular format for consistency with graphs from other studies.</p>\n",
    "<br>"
   ]
  },
  {
   "cell_type": "markdown",
   "metadata": {},
   "source": [
    "<center><img src=\"img/barre.png\" width=\"500px\" height=\"400px\" alt=\"image\">\n",
    "<figcaption>Example of bar chart.</figcaption></center>"
   ]
  },
  {
   "cell_type": "markdown",
   "metadata": {},
   "source": [
    "<br>\n",
    "<br>"
   ]
  },
  {
   "cell_type": "markdown",
   "metadata": {},
   "source": [
    "<center><img src=\"img/linear_corr.png\" width=\"900px\" height=\"800px\" alt=\"image\">\n",
    "<figcaption>Example of scatterplot chart.</figcaption></center>"
   ]
  },
  {
   "cell_type": "markdown",
   "metadata": {},
   "source": [
    "<br>\n",
    "<br>"
   ]
  },
  {
   "cell_type": "markdown",
   "metadata": {},
   "source": [
    "## **8. Communication of Results** <a name=\"communication-of-results\"></a>"
   ]
  },
  {
   "cell_type": "markdown",
   "metadata": {},
   "source": [
    "<p align=\"justify\">This research lasted for several weeks. Upon its conclusion, I conducted an in-person presentation in front of the entire department to communicate my results.</p>\n",
    "\n",
    "<p align=\"justify\">Based on my research findings, we conducted a feasibility assessment and decided to proceed with more suitable experiments aimed at detecting such phenomena in live mice. The future studies were designed in accordance with my recommendations.</p>\n",
    "<br>\n",
    "<br>"
   ]
  },
  {
   "cell_type": "markdown",
   "metadata": {},
   "source": [
    "<center><img src=\"img/presentation.png\" width=\"700px\" height=\"600px\" alt=\"image\">\n",
    "<figcaption>My presentation.</figcaption></center>"
   ]
  },
  {
   "cell_type": "markdown",
   "metadata": {},
   "source": [
    "<br>\n",
    "<br>"
   ]
  },
  {
   "cell_type": "markdown",
   "metadata": {},
   "source": [
    "## **9. Colleague Reception and Reference Letter** <a name=\"colleague-reception-and-reference-letter\"></a>"
   ]
  },
  {
   "cell_type": "markdown",
   "metadata": {},
   "source": [
    "<p align=\"justify\">My work was very positively received by the department. Given the complex nature of the phenomenon under study, which is challenging to investigate even in humans, and the need to extract data from existing video footage rather than conducting tailored experiments, the possibility of achieving this objective was far from certain.</p>\n",
    "\n",
    "<p align=\"justify\">My internship at the laboratory has then concluded.</p>\n",
    "<br>\n",
    "<br>\n",
    "<br>"
   ]
  },
  {
   "cell_type": "markdown",
   "metadata": {},
   "source": [
    "<center><img src=\"img/recom.png\" width=\"700px\" height=\"600px\" alt=\"image\">\n",
    "<figcaption>Full reference letter can be found on my CV.</figcaption></center>"
   ]
  }
 ],
 "metadata": {
  "colab": {
   "provenance": []
  },
  "kernelspec": {
   "display_name": "Python 3 (ipykernel)",
   "language": "python",
   "name": "python3"
  },
  "language_info": {
   "codemirror_mode": {
    "name": "ipython",
    "version": 3
   },
   "file_extension": ".py",
   "mimetype": "text/x-python",
   "name": "python",
   "nbconvert_exporter": "python",
   "pygments_lexer": "ipython3",
   "version": "3.11.3"
  }
 },
 "nbformat": 4,
 "nbformat_minor": 4
}
